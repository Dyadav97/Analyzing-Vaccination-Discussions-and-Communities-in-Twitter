{
 "cells": [
  {
   "cell_type": "code",
   "execution_count": 1,
   "id": "36db8fdd",
   "metadata": {},
   "outputs": [],
   "source": [
    "\n",
    "from tweepy.streaming import Stream\n",
    "\n",
    "from tweepy import OAuthHandler\n",
    "from tweepy import Stream\n",
    "import re"
   ]
  },
  {
   "cell_type": "code",
   "execution_count": 2,
   "id": "1c0876b0",
   "metadata": {},
   "outputs": [],
   "source": [
    "import pandas as pd\n",
    "import numpy as np\n",
    "import matplotlib.pyplot as plt\n",
    "import json\n",
    "import seaborn as sns\n",
    "import re\n",
    "import collections\n",
    "from wordcloud import WordCloud\n"
   ]
  },
  {
   "cell_type": "code",
   "execution_count": 3,
   "id": "be861592",
   "metadata": {},
   "outputs": [],
   "source": [
    "access_token = \"1460188812508741632-OSyuHIQShLBDvvHMSh1bualm1fA0Vw\"\n",
    "access_token_secret = \"HtzuOys5mVnkIGBCgZlUhHTugifXh7kIra6M4o4AdenIE\"\n",
    "consumer_key = \"q1bcK4gedBeOJx4gRSHrlaAou\"\n",
    "consumer_secret = \"eg1fiaOSvk56FxPDW0XOo05DJScJL04jCEWOs0HWzFzo1B5LhY\""
   ]
  },
  {
   "cell_type": "code",
   "execution_count": 4,
   "id": "6b4fa705",
   "metadata": {},
   "outputs": [],
   "source": [
    "tracklist = ['#Brexit', '#brexit', '#br']\n",
    "tweet_count = 0\n",
    "n_tweets = 10\n"
   ]
  },
  {
   "cell_type": "code",
   "execution_count": 5,
   "id": "a003db08",
   "metadata": {},
   "outputs": [
    {
     "name": "stderr",
     "output_type": "stream",
     "text": [
      "Stream encountered an exception\n",
      "Traceback (most recent call last):\n",
      "  File \"E:\\Anaconda\\lib\\site-packages\\tweepy\\streaming.py\", line 115, in _connect\n",
      "    with self.session.request(\n",
      "  File \"E:\\Anaconda\\lib\\site-packages\\requests\\sessions.py\", line 528, in request\n",
      "    prep = self.prepare_request(req)\n",
      "  File \"E:\\Anaconda\\lib\\site-packages\\requests\\sessions.py\", line 456, in prepare_request\n",
      "    p.prepare(\n",
      "  File \"E:\\Anaconda\\lib\\site-packages\\requests\\models.py\", line 320, in prepare\n",
      "    self.prepare_auth(auth, url)\n",
      "  File \"E:\\Anaconda\\lib\\site-packages\\requests\\models.py\", line 551, in prepare_auth\n",
      "    r = auth(self)\n",
      "  File \"E:\\Anaconda\\lib\\site-packages\\requests_oauthlib\\oauth1_auth.py\", line 98, in __call__\n",
      "    r.url, headers, r.body = self.client.sign(\n",
      "  File \"E:\\Anaconda\\lib\\site-packages\\oauthlib\\oauth1\\rfc5849\\__init__.py\", line 351, in sign\n",
      "    ('oauth_signature', self.get_oauth_signature(request)))\n",
      "  File \"E:\\Anaconda\\lib\\site-packages\\oauthlib\\oauth1\\rfc5849\\__init__.py\", line 165, in get_oauth_signature\n",
      "    uri, headers, body = self._render(request)\n",
      "  File \"E:\\Anaconda\\lib\\site-packages\\oauthlib\\oauth1\\rfc5849\\__init__.py\", line 247, in _render\n",
      "    headers = parameters.prepare_headers(\n",
      "  File \"E:\\Anaconda\\lib\\site-packages\\oauthlib\\oauth1\\rfc5849\\utils.py\", line 25, in wrapper\n",
      "    return target(params, *args, **kwargs)\n",
      "  File \"E:\\Anaconda\\lib\\site-packages\\oauthlib\\oauth1\\rfc5849\\parameters.py\", line 53, in prepare_headers\n",
      "    escaped_value = utils.escape(value)\n",
      "  File \"E:\\Anaconda\\lib\\site-packages\\oauthlib\\oauth1\\rfc5849\\utils.py\", line 49, in escape\n",
      "    raise ValueError('Only unicode objects are escapable. ' +\n",
      "ValueError: Only unicode objects are escapable. Got <tweepy.auth.OAuthHandler object at 0x00000264976955B0> of type <class 'tweepy.auth.OAuthHandler'>.\n"
     ]
    }
   ],
   "source": [
    "class StdOutListener(Stream):\n",
    "      \n",
    "    def on_data(self, data):\n",
    "        global tweet_count\n",
    "        global n_tweets\n",
    "        global stream\n",
    "        if tweet_count < n_tweets:\n",
    "            print(data)\n",
    "            tweet_count += 1\n",
    "            return True\n",
    "        else:\n",
    "            stream.disconnect()\n",
    "\n",
    "    def on_error(self, status):\n",
    "        print(status)\n",
    "\n",
    "\n",
    "l = StdOutListener(consumer_key,consumer_secret,consumer_secret,access_token_secret)\n",
    "auth = OAuthHandler(consumer_key, consumer_secret)\n",
    "auth.set_access_token(access_token, access_token_secret)\n",
    "stream = Stream(auth, l,access_token_secret,access_token_secret)\n",
    "stream.filter(track=tracklist)\n",
    "    "
   ]
  },
  {
   "cell_type": "code",
   "execution_count": null,
   "id": "415b6f03",
   "metadata": {},
   "outputs": [
    {
     "name": "stderr",
     "output_type": "stream",
     "text": [
      "Stream encountered HTTP error: 401\n",
      "Stream encountered HTTP error: 401\n",
      "Stream encountered HTTP error: 401\n",
      "Stream encountered HTTP error: 401\n",
      "Stream encountered HTTP error: 401\n",
      "Stream encountered HTTP error: 401\n",
      "Stream encountered HTTP error: 401\n",
      "Stream encountered HTTP error: 401\n",
      "Stream encountered HTTP error: 401\n"
     ]
    }
   ],
   "source": [
    "import tweepy\n",
    "\n",
    "class MyListener(tweepy.Stream):\n",
    "    def on_data(self, data):\n",
    "        try:\n",
    "            with open('python.json', 'a') as f:\n",
    "                f.write(data)\n",
    "                return True\n",
    "        except BaseException as e:\n",
    "            print(\"Error on_data: %s\" % str(e))\n",
    "        return True\n",
    " \n",
    "    def on_error(self, status):\n",
    "        print(status)\n",
    "        return True\n",
    " \n",
    "twitter_stream = MyListener(\n",
    "  \"q1bcK4gedBeOJx4gRSHrlaAou \", \"eg1fiaOSvk56FxPDW0XOo05DJScJL04jCEWOs0HWzFzo1B5LhY\",\n",
    "  \"1460188812508741632-OSyuHIQShLBDvvHMSh1bualm1fA0Vw\", \"HtzuOys5mVnkIGBCgZlUhHTugifXh7kIra6M4o4AdenIE\"\n",
    ")\n",
    "twitter_stream.filter(track=['#python'])"
   ]
  },
  {
   "cell_type": "code",
   "execution_count": null,
   "id": "2685c717",
   "metadata": {},
   "outputs": [],
   "source": []
  }
 ],
 "metadata": {
  "kernelspec": {
   "display_name": "Python 3",
   "language": "python",
   "name": "python3"
  },
  "language_info": {
   "codemirror_mode": {
    "name": "ipython",
    "version": 3
   },
   "file_extension": ".py",
   "mimetype": "text/x-python",
   "name": "python",
   "nbconvert_exporter": "python",
   "pygments_lexer": "ipython3",
   "version": "3.8.8"
  }
 },
 "nbformat": 4,
 "nbformat_minor": 5
}
